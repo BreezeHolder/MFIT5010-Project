{
 "cells": [
  {
   "cell_type": "code",
   "execution_count": 1,
   "metadata": {},
   "outputs": [],
   "source": [
    "# import the packages\n",
    "from sklearn.model_selection import cross_validate\n",
    "from sklearn.model_selection import GridSearchCV\n",
    "from sklearn import metrics, ensemble\n",
    "import xgboost as xgb\n",
    "import numpy as np\n",
    "import pandas as pd\n",
    "import seaborn as sns\n",
    "import matplotlib.pyplot as plt\n",
    "import matplotlib as mpl\n",
    "import warnings\n",
    "warnings.filterwarnings('ignore')\n",
    "plt.style.use('ggplot')\n",
    "\n",
    "from sklearn import preprocessing\n",
    "from sklearn.tree import DecisionTreeClassifier\n",
    "from sklearn.ensemble import RandomForestClassifier\n",
    "from sklearn.preprocessing import LabelEncoder\n",
    "from sklearn import metrics\n",
    "from sklearn.model_selection import KFold\n",
    "from sklearn.metrics import roc_curve, auc\n",
    "import lightgbm as lgb\n",
    "from sklearn.model_selection import train_test_split"
   ]
  },
  {
   "cell_type": "code",
   "execution_count": 2,
   "metadata": {},
   "outputs": [],
   "source": [
    "# Load data\n",
    "df = pd.read_csv('/Users/oyster/Documents/kkbox-music-recommendation-challenge 2/train.csv')\n",
    "\n",
    "# Due to large dataset, here use 10% sample of items\n",
    "df = df.sample(frac=0.1)"
   ]
  },
  {
   "cell_type": "code",
   "execution_count": 3,
   "metadata": {},
   "outputs": [],
   "source": [
    "# Load and merge songs data\n",
    "songs = pd.read_csv('/Users/oyster/Documents/kkbox-music-recommendation-challenge 2/songs.csv')\n",
    "df = pd.merge(df, songs, on='song_id', how='left')\n",
    "del songs\n",
    "\n",
    "# Load and merge members data\n",
    "members = pd.read_csv('/Users/oyster/Documents/kkbox-music-recommendation-challenge 2/members.csv')\n",
    "df = pd.merge(df, members, on='msno', how='left')\n",
    "del members"
   ]
  },
  {
   "cell_type": "code",
   "execution_count": 4,
   "metadata": {},
   "outputs": [
    {
     "name": "stdout",
     "output_type": "stream",
     "text": [
      "<class 'pandas.core.frame.DataFrame'>\n",
      "Int64Index: 737742 entries, 0 to 737741\n",
      "Data columns (total 18 columns):\n",
      " #   Column                  Non-Null Count   Dtype  \n",
      "---  ------                  --------------   -----  \n",
      " 0   msno                    737742 non-null  object \n",
      " 1   song_id                 737742 non-null  object \n",
      " 2   source_system_tab       735257 non-null  object \n",
      " 3   source_screen_name      696080 non-null  object \n",
      " 4   source_type             735570 non-null  object \n",
      " 5   target                  737742 non-null  int64  \n",
      " 6   song_length             737727 non-null  float64\n",
      " 7   genre_ids               725850 non-null  object \n",
      " 8   artist_name             737727 non-null  object \n",
      " 9   composer                570080 non-null  object \n",
      " 10  lyricist                420326 non-null  object \n",
      " 11  language                737725 non-null  float64\n",
      " 12  city                    737742 non-null  int64  \n",
      " 13  bd                      737742 non-null  int64  \n",
      " 14  gender                  441531 non-null  object \n",
      " 15  registered_via          737742 non-null  int64  \n",
      " 16  registration_init_time  737742 non-null  int64  \n",
      " 17  expiration_date         737742 non-null  int64  \n",
      "dtypes: float64(2), int64(6), object(10)\n",
      "memory usage: 106.9+ MB\n"
     ]
    }
   ],
   "source": [
    "# Check the dataset\n",
    "df.info()"
   ]
  },
  {
   "cell_type": "code",
   "execution_count": 5,
   "metadata": {},
   "outputs": [
    {
     "data": {
      "text/plain": [
       "msno                       0.000000\n",
       "song_id                    0.000000\n",
       "source_system_tab          0.336839\n",
       "source_screen_name         5.647232\n",
       "source_type                0.294412\n",
       "target                     0.000000\n",
       "song_length                0.002033\n",
       "genre_ids                  1.611946\n",
       "artist_name                0.002033\n",
       "composer                  22.726373\n",
       "lyricist                  43.025339\n",
       "language                   0.002304\n",
       "city                       0.000000\n",
       "bd                         0.000000\n",
       "gender                    40.151028\n",
       "registered_via             0.000000\n",
       "registration_init_time     0.000000\n",
       "expiration_date            0.000000\n",
       "dtype: float64"
      ]
     },
     "execution_count": 5,
     "metadata": {},
     "output_type": "execute_result"
    }
   ],
   "source": [
    "# Check the NULL values proportion in dataset\n",
    "df.isnull().sum()/df.isnull().count()*100"
   ]
  },
  {
   "cell_type": "code",
   "execution_count": 6,
   "metadata": {},
   "outputs": [],
   "source": [
    "# Replace NA with 0\n",
    "for i in df.select_dtypes(include=['object']).columns:\n",
    "    df[i][df[i].isnull()] = 'unknown'\n",
    "df = df.fillna(value=0)"
   ]
  },
  {
   "cell_type": "code",
   "execution_count": 7,
   "metadata": {},
   "outputs": [],
   "source": [
    "# Create Dates Variables\n",
    "\n",
    "# registration_init_time\n",
    "df.registration_init_time = pd.to_datetime(df.registration_init_time, format='%Y%m%d', errors='ignore')\n",
    "df['registration_init_time_year'] = df['registration_init_time'].dt.year\n",
    "df['registration_init_time_month'] = df['registration_init_time'].dt.month\n",
    "df['registration_init_time_day'] = df['registration_init_time'].dt.day\n",
    "\n",
    "# expiration_date\n",
    "df.expiration_date = pd.to_datetime(df.expiration_date,  format='%Y%m%d', errors='ignore')\n",
    "df['expiration_date_year'] = df['expiration_date'].dt.year\n",
    "df['expiration_date_month'] = df['expiration_date'].dt.month\n",
    "df['expiration_date_day'] = df['expiration_date'].dt.day"
   ]
  },
  {
   "cell_type": "code",
   "execution_count": 8,
   "metadata": {},
   "outputs": [
    {
     "data": {
      "text/html": [
       "<div>\n",
       "<style scoped>\n",
       "    .dataframe tbody tr th:only-of-type {\n",
       "        vertical-align: middle;\n",
       "    }\n",
       "\n",
       "    .dataframe tbody tr th {\n",
       "        vertical-align: top;\n",
       "    }\n",
       "\n",
       "    .dataframe thead th {\n",
       "        text-align: right;\n",
       "    }\n",
       "</style>\n",
       "<table border=\"1\" class=\"dataframe\">\n",
       "  <thead>\n",
       "    <tr style=\"text-align: right;\">\n",
       "      <th></th>\n",
       "      <th>msno</th>\n",
       "      <th>song_id</th>\n",
       "      <th>source_system_tab</th>\n",
       "      <th>source_screen_name</th>\n",
       "      <th>source_type</th>\n",
       "      <th>target</th>\n",
       "      <th>song_length</th>\n",
       "      <th>genre_ids</th>\n",
       "      <th>artist_name</th>\n",
       "      <th>composer</th>\n",
       "      <th>...</th>\n",
       "      <th>gender</th>\n",
       "      <th>registered_via</th>\n",
       "      <th>registration_init_time</th>\n",
       "      <th>expiration_date</th>\n",
       "      <th>registration_init_time_year</th>\n",
       "      <th>registration_init_time_month</th>\n",
       "      <th>registration_init_time_day</th>\n",
       "      <th>expiration_date_year</th>\n",
       "      <th>expiration_date_month</th>\n",
       "      <th>expiration_date_day</th>\n",
       "    </tr>\n",
       "  </thead>\n",
       "  <tbody>\n",
       "    <tr>\n",
       "      <th>0</th>\n",
       "      <td>MT8YzAbVWOedrV6uenTLKxduOn+M1XCa/8KCvjyrs60=</td>\n",
       "      <td>7XMCOsZb2tgux9OcdiVxnUmdMTWwJkUUKqYB+nT6n/Y=</td>\n",
       "      <td>discover</td>\n",
       "      <td>Online playlist more</td>\n",
       "      <td>online-playlist</td>\n",
       "      <td>0</td>\n",
       "      <td>233534.0</td>\n",
       "      <td>458</td>\n",
       "      <td>辛曉琪 (Winnie Hsin)</td>\n",
       "      <td>林冠吟</td>\n",
       "      <td>...</td>\n",
       "      <td>unknown</td>\n",
       "      <td>7</td>\n",
       "      <td>2011-11-29</td>\n",
       "      <td>2017-09-22</td>\n",
       "      <td>2011</td>\n",
       "      <td>11</td>\n",
       "      <td>29</td>\n",
       "      <td>2017</td>\n",
       "      <td>9</td>\n",
       "      <td>22</td>\n",
       "    </tr>\n",
       "    <tr>\n",
       "      <th>1</th>\n",
       "      <td>fTtWLB9gDha1vn6qiu0i5SgZM7ay3UA4qpoLCcqlKrw=</td>\n",
       "      <td>4/6W/cbQm0FH9lqxdaCGK/v6EceY8ws85HJeiegjL5I=</td>\n",
       "      <td>my library</td>\n",
       "      <td>Local playlist more</td>\n",
       "      <td>local-library</td>\n",
       "      <td>1</td>\n",
       "      <td>208320.0</td>\n",
       "      <td>465</td>\n",
       "      <td>品冠 (Victor Wong)</td>\n",
       "      <td>品冠</td>\n",
       "      <td>...</td>\n",
       "      <td>unknown</td>\n",
       "      <td>7</td>\n",
       "      <td>2011-08-26</td>\n",
       "      <td>2017-10-04</td>\n",
       "      <td>2011</td>\n",
       "      <td>8</td>\n",
       "      <td>26</td>\n",
       "      <td>2017</td>\n",
       "      <td>10</td>\n",
       "      <td>4</td>\n",
       "    </tr>\n",
       "    <tr>\n",
       "      <th>2</th>\n",
       "      <td>uFaGDi1YlFdHs4/n+xAblTGvMW/Sr6REZwpaKmS6op4=</td>\n",
       "      <td>xLx3Ii7d0Fsu1xr4WuhbygWZMBllY3SwgjVqtvK/LNo=</td>\n",
       "      <td>my library</td>\n",
       "      <td>Local playlist more</td>\n",
       "      <td>local-library</td>\n",
       "      <td>1</td>\n",
       "      <td>307339.0</td>\n",
       "      <td>465</td>\n",
       "      <td>Bon Jovi</td>\n",
       "      <td>unknown</td>\n",
       "      <td>...</td>\n",
       "      <td>male</td>\n",
       "      <td>3</td>\n",
       "      <td>2013-06-10</td>\n",
       "      <td>2017-11-25</td>\n",
       "      <td>2013</td>\n",
       "      <td>6</td>\n",
       "      <td>10</td>\n",
       "      <td>2017</td>\n",
       "      <td>11</td>\n",
       "      <td>25</td>\n",
       "    </tr>\n",
       "    <tr>\n",
       "      <th>3</th>\n",
       "      <td>37cfdk7dR9FHspSzDNqvCxdsGp2SDAqDVaoxQadY2Bk=</td>\n",
       "      <td>k8DZF0FFuy2GydI7mnH1tH50pFcEQMPYVD/A7Y/T0QI=</td>\n",
       "      <td>discover</td>\n",
       "      <td>Discover Chart</td>\n",
       "      <td>online-playlist</td>\n",
       "      <td>1</td>\n",
       "      <td>279405.0</td>\n",
       "      <td>458</td>\n",
       "      <td>田馥甄 (Hebe)</td>\n",
       "      <td>陶喆</td>\n",
       "      <td>...</td>\n",
       "      <td>female</td>\n",
       "      <td>9</td>\n",
       "      <td>2013-07-23</td>\n",
       "      <td>2017-10-02</td>\n",
       "      <td>2013</td>\n",
       "      <td>7</td>\n",
       "      <td>23</td>\n",
       "      <td>2017</td>\n",
       "      <td>10</td>\n",
       "      <td>2</td>\n",
       "    </tr>\n",
       "    <tr>\n",
       "      <th>4</th>\n",
       "      <td>vSkoN/wac7pHJfshKmoip+C1OvxBZGhh2YqwQcqZFG8=</td>\n",
       "      <td>A7Z2nDVASy04EpmfzOL9PRMN3hFVbWQ7ah4J+o9sLnE=</td>\n",
       "      <td>search</td>\n",
       "      <td>Artist more</td>\n",
       "      <td>top-hits-for-artist</td>\n",
       "      <td>0</td>\n",
       "      <td>242688.0</td>\n",
       "      <td>465</td>\n",
       "      <td>玖壹壹</td>\n",
       "      <td>謝銘祐 陳皓宇</td>\n",
       "      <td>...</td>\n",
       "      <td>female</td>\n",
       "      <td>9</td>\n",
       "      <td>2005-04-16</td>\n",
       "      <td>2017-07-16</td>\n",
       "      <td>2005</td>\n",
       "      <td>4</td>\n",
       "      <td>16</td>\n",
       "      <td>2017</td>\n",
       "      <td>7</td>\n",
       "      <td>16</td>\n",
       "    </tr>\n",
       "  </tbody>\n",
       "</table>\n",
       "<p>5 rows × 24 columns</p>\n",
       "</div>"
      ],
      "text/plain": [
       "                                           msno  \\\n",
       "0  MT8YzAbVWOedrV6uenTLKxduOn+M1XCa/8KCvjyrs60=   \n",
       "1  fTtWLB9gDha1vn6qiu0i5SgZM7ay3UA4qpoLCcqlKrw=   \n",
       "2  uFaGDi1YlFdHs4/n+xAblTGvMW/Sr6REZwpaKmS6op4=   \n",
       "3  37cfdk7dR9FHspSzDNqvCxdsGp2SDAqDVaoxQadY2Bk=   \n",
       "4  vSkoN/wac7pHJfshKmoip+C1OvxBZGhh2YqwQcqZFG8=   \n",
       "\n",
       "                                        song_id source_system_tab  \\\n",
       "0  7XMCOsZb2tgux9OcdiVxnUmdMTWwJkUUKqYB+nT6n/Y=          discover   \n",
       "1  4/6W/cbQm0FH9lqxdaCGK/v6EceY8ws85HJeiegjL5I=        my library   \n",
       "2  xLx3Ii7d0Fsu1xr4WuhbygWZMBllY3SwgjVqtvK/LNo=        my library   \n",
       "3  k8DZF0FFuy2GydI7mnH1tH50pFcEQMPYVD/A7Y/T0QI=          discover   \n",
       "4  A7Z2nDVASy04EpmfzOL9PRMN3hFVbWQ7ah4J+o9sLnE=            search   \n",
       "\n",
       "     source_screen_name          source_type  target  song_length genre_ids  \\\n",
       "0  Online playlist more      online-playlist       0     233534.0       458   \n",
       "1   Local playlist more        local-library       1     208320.0       465   \n",
       "2   Local playlist more        local-library       1     307339.0       465   \n",
       "3        Discover Chart      online-playlist       1     279405.0       458   \n",
       "4           Artist more  top-hits-for-artist       0     242688.0       465   \n",
       "\n",
       "         artist_name composer  ...   gender  registered_via  \\\n",
       "0  辛曉琪 (Winnie Hsin)      林冠吟  ...  unknown               7   \n",
       "1   品冠 (Victor Wong)       品冠  ...  unknown               7   \n",
       "2           Bon Jovi  unknown  ...     male               3   \n",
       "3         田馥甄 (Hebe)       陶喆  ...   female               9   \n",
       "4                玖壹壹  謝銘祐 陳皓宇  ...   female               9   \n",
       "\n",
       "   registration_init_time  expiration_date registration_init_time_year  \\\n",
       "0              2011-11-29       2017-09-22                        2011   \n",
       "1              2011-08-26       2017-10-04                        2011   \n",
       "2              2013-06-10       2017-11-25                        2013   \n",
       "3              2013-07-23       2017-10-02                        2013   \n",
       "4              2005-04-16       2017-07-16                        2005   \n",
       "\n",
       "   registration_init_time_month registration_init_time_day  \\\n",
       "0                            11                         29   \n",
       "1                             8                         26   \n",
       "2                             6                         10   \n",
       "3                             7                         23   \n",
       "4                             4                         16   \n",
       "\n",
       "  expiration_date_year  expiration_date_month  expiration_date_day  \n",
       "0                 2017                      9                   22  \n",
       "1                 2017                     10                    4  \n",
       "2                 2017                     11                   25  \n",
       "3                 2017                     10                    2  \n",
       "4                 2017                      7                   16  \n",
       "\n",
       "[5 rows x 24 columns]"
      ]
     },
     "execution_count": 8,
     "metadata": {},
     "output_type": "execute_result"
    }
   ],
   "source": [
    "df.head()"
   ]
  },
  {
   "cell_type": "code",
   "execution_count": 9,
   "metadata": {},
   "outputs": [],
   "source": [
    "# Dates to categoty\n",
    "df['registration_init_time'] = df['registration_init_time'].astype('category')\n",
    "df['expiration_date'] = df['expiration_date'].astype('category')"
   ]
  },
  {
   "cell_type": "code",
   "execution_count": 10,
   "metadata": {},
   "outputs": [],
   "source": [
    "# Object data to category\n",
    "for col in df.select_dtypes(include=['object']).columns:\n",
    "    df[col] = df[col].astype('category')\n",
    "    \n",
    "# Encoding categorical features\n",
    "for col in df.select_dtypes(include=['category']).columns:\n",
    "    df[col] = df[col].cat.codes"
   ]
  },
  {
   "cell_type": "code",
   "execution_count": 11,
   "metadata": {},
   "outputs": [
    {
     "data": {
      "image/png": "[encoded data removed]",
      "text/plain": [
       "<Figure size 504x360 with 2 Axes>"
      ]
     },
     "metadata": {},
     "output_type": "display_data"
    }
   ],
   "source": [
    "# Use correlation matrix to examine the correlation relationships between variables\n",
    "plt.figure(figsize=[7,5])\n",
    "sns.heatmap(df.corr())\n",
    "plt.show()"
   ]
  },
  {
   "cell_type": "code",
   "execution_count": 12,
   "metadata": {},
   "outputs": [],
   "source": [
    "# Drop highly correlative columns\n",
    "df = df.drop(['expiration_date', 'lyricist'], 1)"
   ]
  },
  {
   "cell_type": "code",
   "execution_count": 13,
   "metadata": {},
   "outputs": [],
   "source": [
    "# Split the dataset into training data and test data\n",
    "\n",
    "# Train & Test split\n",
    "target = df.pop('target')\n",
    "train_data, test_data, train_labels, test_labels = train_test_split(df, target, test_size = 0.3)\n"
   ]
  },
  {
   "cell_type": "code",
   "execution_count": 14,
   "metadata": {},
   "outputs": [
    {
     "data": {
      "text/plain": [
       "RandomForestClassifier(bootstrap=True, ccp_alpha=0.0, class_weight=None,\n",
       "                       criterion='gini', max_depth=25, max_features='auto',\n",
       "                       max_leaf_nodes=None, max_samples=None,\n",
       "                       min_impurity_decrease=0.0, min_impurity_split=None,\n",
       "                       min_samples_leaf=1, min_samples_split=2,\n",
       "                       min_weight_fraction_leaf=0.0, n_estimators=250,\n",
       "                       n_jobs=None, oob_score=False, random_state=None,\n",
       "                       verbose=0, warm_start=False)"
      ]
     },
     "execution_count": 14,
     "metadata": {},
     "output_type": "execute_result"
    }
   ],
   "source": [
    "# Creat Ramdom Forest Model\n",
    "modelRF = ensemble.RandomForestClassifier(n_estimators=250, max_depth=25)\n",
    "modelRF.fit(train_data, train_labels)"
   ]
  },
  {
   "cell_type": "code",
   "execution_count": 15,
   "metadata": {},
   "outputs": [
    {
     "name": "stdout",
     "output_type": "stream",
     "text": [
      "              precision    recall  f1-score   support\n",
      "\n",
      "           0       0.68      0.63      0.66    110054\n",
      "           1       0.66      0.71      0.68    111269\n",
      "\n",
      "    accuracy                           0.67    221323\n",
      "   macro avg       0.67      0.67      0.67    221323\n",
      "weighted avg       0.67      0.67      0.67    221323\n",
      "\n"
     ]
    }
   ],
   "source": [
    "# Predicting Random Forest\n",
    "predict_labels_RF = modelRF.predict(test_data)\n",
    "# Print the confusion matrix\n",
    "print(metrics.classification_report(test_labels, predict_labels_RF))"
   ]
  },
  {
   "cell_type": "code",
   "execution_count": 17,
   "metadata": {},
   "outputs": [
    {
     "data": {
      "image/png": "[encoded data removed]",
      "text/plain": [
       "<Figure size 432x288 with 1 Axes>"
      ]
     },
     "metadata": {},
     "output_type": "display_data"
    }
   ],
   "source": [
    "# Define ROC Curve function\n",
    "def plot_roc(labels, predict_prob):\n",
    "    false_positive_rate,true_positive_rate,thresholds=roc_curve(labels, predict_prob)\n",
    "    roc_auc=auc(false_positive_rate, true_positive_rate)\n",
    "    plt.title('ROC')\n",
    "    plt.plot(false_positive_rate, true_positive_rate,'b',label='AUC = %0.4f'% roc_auc)\n",
    "    plt.legend(loc='lower right')\n",
    "    plt.plot([0,1],[0,1],'r--')\n",
    "    plt.ylabel('TPR')\n",
    "    plt.xlabel('FPR')\n",
    "\n",
    "# Print the ROC Curve of the random forest model\n",
    "predict_proba_RF = modelRF.predict_proba(test_data)[:,1]\n",
    "plot_roc(test_labels,predict_proba_RF)"
   ]
  },
  {
   "cell_type": "code",
   "execution_count": 18,
   "metadata": {},
   "outputs": [
    {
     "data": {
      "text/plain": [
       "XGBClassifier(base_score=0.5, booster='gbtree', colsample_bylevel=1,\n",
       "              colsample_bynode=1, colsample_bytree=1, gamma=0, gpu_id=-1,\n",
       "              importance_type='gain', interaction_constraints='',\n",
       "              learning_rate=0.1, max_delta_step=0, max_depth=15,\n",
       "              min_child_weight=5, missing=nan, monotone_constraints='()',\n",
       "              n_estimators=250, n_jobs=0, num_parallel_tree=1,\n",
       "              objective='binary:logistic', random_state=0, reg_alpha=0,\n",
       "              reg_lambda=1, scale_pos_weight=1, subsample=1,\n",
       "              tree_method='exact', validate_parameters=1, verbosity=None)"
      ]
     },
     "execution_count": 18,
     "metadata": {},
     "output_type": "execute_result"
    }
   ],
   "source": [
    "# Create XGB model\n",
    "modelXGB = xgb.XGBClassifier(learning_rate=0.1, max_depth=15, min_child_weight=5, n_estimators=250)\n",
    "modelXGB.fit(train_data, train_labels)"
   ]
  },
  {
   "cell_type": "code",
   "execution_count": 19,
   "metadata": {},
   "outputs": [],
   "source": [
    "# Predicting XGB\n",
    "predict_labels_XGB = modelXGB.predict(test_data)"
   ]
  },
  {
   "cell_type": "code",
   "execution_count": 20,
   "metadata": {},
   "outputs": [
    {
     "name": "stdout",
     "output_type": "stream",
     "text": [
      "              precision    recall  f1-score   support\n",
      "\n",
      "           0       0.69      0.66      0.67    110054\n",
      "           1       0.67      0.70      0.69    111269\n",
      "\n",
      "    accuracy                           0.68    221323\n",
      "   macro avg       0.68      0.68      0.68    221323\n",
      "weighted avg       0.68      0.68      0.68    221323\n",
      "\n"
     ]
    }
   ],
   "source": [
    "# Print the confusion matrix\n",
    "print(metrics.classification_report(test_labels, predict_labels_XGB))"
   ]
  },
  {
   "cell_type": "code",
   "execution_count": 21,
   "metadata": {},
   "outputs": [
    {
     "data": {
      "image/png": "[encoded data removed]",
      "text/plain": [
       "<Figure size 432x288 with 1 Axes>"
      ]
     },
     "metadata": {},
     "output_type": "display_data"
    }
   ],
   "source": [
    "# Print the ROC Curve of the XGB model\n",
    "predict_proba_XGB = modelXGB.predict_proba(test_data)[:,1]\n",
    "plot_roc(test_labels,predict_proba_XGB)"
   ]
  },
  {
   "cell_type": "code",
   "execution_count": 22,
   "metadata": {},
   "outputs": [],
   "source": [
    "# Construct training and validation dataset for LGB Model\n",
    "lgb_train = lgb.Dataset(train_data, train_labels)\n",
    "lgb_test = lgb.Dataset(test_data, test_labels)"
   ]
  },
  {
   "cell_type": "code",
   "execution_count": 23,
   "metadata": {},
   "outputs": [
    {
     "name": "stdout",
     "output_type": "stream",
     "text": [
      "[5]\tvalid_0's auc: 0.677652\n",
      "[10]\tvalid_0's auc: 0.68468\n",
      "[15]\tvalid_0's auc: 0.688868\n",
      "[20]\tvalid_0's auc: 0.69456\n",
      "[25]\tvalid_0's auc: 0.698077\n",
      "[30]\tvalid_0's auc: 0.700623\n",
      "[35]\tvalid_0's auc: 0.703449\n",
      "[40]\tvalid_0's auc: 0.705278\n",
      "[45]\tvalid_0's auc: 0.707203\n",
      "[50]\tvalid_0's auc: 0.708191\n",
      "[55]\tvalid_0's auc: 0.709872\n",
      "[60]\tvalid_0's auc: 0.71071\n",
      "[65]\tvalid_0's auc: 0.711606\n",
      "[70]\tvalid_0's auc: 0.712522\n",
      "[75]\tvalid_0's auc: 0.713755\n",
      "[80]\tvalid_0's auc: 0.714835\n",
      "[85]\tvalid_0's auc: 0.716052\n",
      "[90]\tvalid_0's auc: 0.716863\n",
      "[95]\tvalid_0's auc: 0.717753\n",
      "[100]\tvalid_0's auc: 0.718455\n",
      "[105]\tvalid_0's auc: 0.718854\n",
      "[110]\tvalid_0's auc: 0.719327\n",
      "[115]\tvalid_0's auc: 0.719783\n",
      "[120]\tvalid_0's auc: 0.720488\n",
      "[125]\tvalid_0's auc: 0.720711\n",
      "[130]\tvalid_0's auc: 0.721042\n",
      "[135]\tvalid_0's auc: 0.721456\n",
      "[140]\tvalid_0's auc: 0.722087\n",
      "[145]\tvalid_0's auc: 0.722217\n",
      "[150]\tvalid_0's auc: 0.722625\n",
      "[155]\tvalid_0's auc: 0.723045\n",
      "[160]\tvalid_0's auc: 0.723488\n",
      "[165]\tvalid_0's auc: 0.723695\n",
      "[170]\tvalid_0's auc: 0.724205\n",
      "[175]\tvalid_0's auc: 0.724346\n",
      "[180]\tvalid_0's auc: 0.724491\n",
      "[185]\tvalid_0's auc: 0.724997\n",
      "[190]\tvalid_0's auc: 0.724923\n",
      "[195]\tvalid_0's auc: 0.725292\n",
      "[200]\tvalid_0's auc: 0.725299\n"
     ]
    }
   ],
   "source": [
    "# Set the parameters\n",
    "params = {\n",
    "        'objective': 'binary',\n",
    "        'boosting': 'gbdt',\n",
    "        'learning_rate': 0.2 ,\n",
    "        'verbose': 0,\n",
    "        'num_leaves': 100,\n",
    "        'bagging_fraction': 0.95,\n",
    "        'bagging_freq': 1,\n",
    "        'bagging_seed': 1,\n",
    "        'feature_fraction': 0.9,\n",
    "        'feature_fraction_seed': 1,\n",
    "        'max_bin': 256,\n",
    "        'num_rounds': 200,\n",
    "        'metric' : 'auc'\n",
    "    }\n",
    "# LGBM Model\n",
    "modelLGBM = lgb.train(params, train_set = lgb_train, valid_sets = lgb_test, verbose_eval=5)\n",
    "# Verbose_eval prints output after every 5 iterations"
   ]
  },
  {
   "cell_type": "code",
   "execution_count": null,
   "metadata": {},
   "outputs": [],
   "source": []
  },
  {
   "cell_type": "code",
   "execution_count": null,
   "metadata": {},
   "outputs": [],
   "source": []
  },
  {
   "cell_type": "code",
   "execution_count": null,
   "metadata": {},
   "outputs": [],
   "source": []
  }
 ],
 "metadata": {
  "kernelspec": {
   "display_name": "Python 3",
   "language": "python",
   "name": "python3"
  },
  "language_info": {
   "codemirror_mode": {
    "name": "ipython",
    "version": 3
   },
   "file_extension": ".py",
   "mimetype": "text/x-python",
   "name": "python",
   "nbconvert_exporter": "python",
   "pygments_lexer": "ipython3",
   "version": "3.7.6"
  }
 },
 "nbformat": 4,
 "nbformat_minor": 4
}
